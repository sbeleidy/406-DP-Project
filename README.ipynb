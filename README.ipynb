{
 "cells": [
  {
   "cell_type": "markdown",
   "metadata": {},
   "source": [
    "# Algorithms - Dynamic Programming Project\n",
    "\n",
    "Authors:\n",
    "\n",
    "1. Hanna Barringer\n",
    "1. Saad Elbeleidy\n",
    "1. Austin Leo\n",
    "\n",
    "## Problem\n",
    "\n",
    "The Astronomy club is faced with the following algorithmic problem. There are `n` consecutive astronomical events they could observe on a particular night that occur exactly one minute apart. Thus event `j` occurs at minute j. Also, event `j` occurs at integer coordinate `d_j` in the sky (we’re assuming the sky is one-dimensional). The telescope’s initial position at minute 0 is assumed to be coordinate 0 and the club is required to observe the last event `n` (occurring at minute `n`). The catch here is that the telescope can only be moved one coordinate per minute. So, at minute 1, the telescope can be moved to coordinate location 1 or −1 (or it could remain at location 0).\n",
    "\n",
    "The optimization problem you have to solve is: given the coordinates of each of the `n` events, find a viewable subset of maximum size, subject to the requirement that it should contain event `n`.\n",
    "\n",
    "Example: \n",
    "\n",
    "In the example below, the optimal solution is to observe events `{1,3,6,9}`. Note that the telescope has time to move from one event in this set to the next event moving at one coordinate location per minute:\n",
    "\n",
    "|Event     |1 |2 |3 |4 |5 |6 |7 |8 |9 |\n",
    "|----------|:-|:-|:-|:-|:-|:-|:-|:-|:-|\n",
    "|Coordinate|1 |-4|-1|4 |5 |-4|6 |7 |-2|\n",
    "\n",
    "## Solution Approach\n",
    "\n",
    "\n"
   ]
  },
  {
   "cell_type": "code",
   "execution_count": 109,
   "metadata": {
    "collapsed": false
   },
   "outputs": [],
   "source": [
    "allPossibleFromEnd = []\n",
    "allPossibleFromStart = []\n",
    "\n",
    "def reset():\n",
    "    global allPossibleFromEnd, allPossibleFromStart\n",
    "    allPossibleFromEnd = []\n",
    "    allPossibleFromStart = []\n",
    "    \n",
    "\n",
    "def getPossibilities(C,debug=0):\n",
    "    n = len(C)\n",
    "    minsEnd = [C[-1]-(n-i-1) for i in range(n-1)] + [C[-1]]\n",
    "    maxsEnd = [C[-1]+(n-i-1) for i in range(n-1)] + [C[-1]]\n",
    "    minsStart = [-i for i in range(1,n+1)]\n",
    "    maxsStart = list(range(1,n+1))\n",
    "    \n",
    "    if debug:\n",
    "        print(minsEnd)\n",
    "        print(C)\n",
    "        print(maxsEnd)\n",
    "\n",
    "        print(minsStart)\n",
    "        print(C)\n",
    "        print(maxsStart)\n",
    "    \n",
    "    possibleEnd = [(C[i]>=minsEnd[i] and C[i]<=maxsEnd[i]) for i in range(n)]\n",
    "    \n",
    "    if debug:\n",
    "        print(possibleEnd)\n",
    "    \n",
    "    global allPossibleFromEnd\n",
    "    if allPossibleFromEnd == []:\n",
    "        allPossibleFromEnd = [0]* n\n",
    "        \n",
    "    global allPossibleFromStart\n",
    "    if allPossibleFromStart == []:\n",
    "        allPossibleFromStart = [(C[i]>=minsStart[i] and C[i]<=maxsStart[i]) for i in range(n)]\n",
    "        \n",
    "    allPossibleFromEnd[n-1] = possibleEnd\n",
    "    \n",
    "    for p in range(1,len(possibleEnd)):\n",
    "        if possibleEnd[p]:\n",
    "            getPossibilities(C[:p])\n",
    "    \n",
    "\n",
    "def solve(C, debug=0):\n",
    "    n = len(C)\n",
    "    getPossibilities(C, debug)\n",
    "    global allPossibleFromStart, allPossibleFromEnd\n",
    "    \n",
    "    if debug:\n",
    "        print(allPossibleFromStart)\n",
    "        print()\n",
    "        for l in allPossibleFromEnd:\n",
    "            print(l)\n",
    "    \n",
    "    possibleFromStartAndEnd = [[(allPossibleFromStart[i] and allPossibleFromEnd[j][i]) for i in range(j)] for j in range(n)]\n",
    "\n",
    "    if debug:\n",
    "        for l in possibleFromStartAndEnd:\n",
    "            print(l)\n",
    "        print()\n",
    "\n",
    "        scores = [sum(i) for i in possibleFromStartAndEnd]\n",
    "        print(scores)\n",
    "        print()\n",
    "    \n",
    "    solution = [i+1 for i in range(n-1) if possibleFromStartAndEnd[-1][i]] + [n]\n",
    "    \n",
    "    if debug:\n",
    "        print(solution)\n",
    "        print()\n",
    "        \n",
    "    return solution"
   ]
  },
  {
   "cell_type": "markdown",
   "metadata": {},
   "source": [
    "### Some Examples"
   ]
  },
  {
   "cell_type": "code",
   "execution_count": 105,
   "metadata": {
    "collapsed": false
   },
   "outputs": [
    {
     "name": "stdout",
     "output_type": "stream",
     "text": [
      "[1, 3, 6, 9]\n"
     ]
    }
   ],
   "source": [
    "print(solve([1,-4,-1,4,5,-4,6,7,-2]))\n",
    "reset()"
   ]
  },
  {
   "cell_type": "code",
   "execution_count": 95,
   "metadata": {
    "collapsed": false
   },
   "outputs": [
    {
     "name": "stdout",
     "output_type": "stream",
     "text": [
      "[1, 2, 3, 4, 5, 6, 7, 8, 9]\n"
     ]
    }
   ],
   "source": [
    "print(solve([1,2,3,4,5,6,7,8,9]))\n",
    "reset()"
   ]
  },
  {
   "cell_type": "code",
   "execution_count": 96,
   "metadata": {
    "collapsed": false
   },
   "outputs": [
    {
     "name": "stdout",
     "output_type": "stream",
     "text": [
      "[1, 2, 4, 6, 8, 9]\n"
     ]
    }
   ],
   "source": [
    "print(solve([1,2,-3,4,-5,6,-7,8,9]))\n",
    "reset()"
   ]
  },
  {
   "cell_type": "code",
   "execution_count": 98,
   "metadata": {
    "collapsed": false
   },
   "outputs": [
    {
     "name": "stdout",
     "output_type": "stream",
     "text": [
      "[2, 3, 4, 5, 6, 7, 8, 9]\n"
     ]
    }
   ],
   "source": [
    "print(solve([0,2,3,4,5,6,7,8,9]))\n",
    "reset()"
   ]
  },
  {
   "cell_type": "code",
   "execution_count": 101,
   "metadata": {
    "collapsed": false
   },
   "outputs": [
    {
     "name": "stdout",
     "output_type": "stream",
     "text": [
      "[1, 9]\n"
     ]
    }
   ],
   "source": [
    "print(solve([1,1,2,3,4,5,6,7,9]))\n",
    "reset()"
   ]
  },
  {
   "cell_type": "code",
   "execution_count": 111,
   "metadata": {
    "collapsed": false
   },
   "outputs": [
    {
     "name": "stdout",
     "output_type": "stream",
     "text": [
      "[-10, -9, -8, -7, -6, -5, -4, -3, -2]\n",
      "[1, -4, -1, 4, 5, -4, 6, 7, -2]\n",
      "[6, 5, 4, 3, 2, 1, 0, -1, -2]\n",
      "[-1, -2, -3, -4, -5, -6, -7, -8, -9]\n",
      "[1, -4, -1, 4, 5, -4, 6, 7, -2]\n",
      "[1, 2, 3, 4, 5, 6, 7, 8, 9]\n",
      "[True, True, True, False, False, True, False, False, True]\n",
      "[True, False, True, True, True, True, True, True, True]\n",
      "\n",
      "[True]\n",
      "[False, True]\n",
      "[True, False, True]\n",
      "[True, False, False, True]\n",
      "[True, False, False, True, True]\n",
      "[True, True, True, False, False, True]\n",
      "[True, False, False, True, True, False, True]\n",
      "[True, False, False, True, True, False, True, True]\n",
      "[True, True, True, False, False, True, False, False, True]\n",
      "[]\n",
      "[False]\n",
      "[True, False]\n",
      "[True, False, False]\n",
      "[True, False, False, True]\n",
      "[True, False, True, False, False]\n",
      "[True, False, False, True, True, False]\n",
      "[True, False, False, True, True, False, True]\n",
      "[True, False, True, False, False, True, False, False]\n",
      "\n",
      "[0, 0, 1, 1, 2, 2, 3, 4, 3]\n",
      "\n",
      "[1, 3, 6, 9]\n",
      "\n",
      "[1, 3, 6, 9]\n"
     ]
    }
   ],
   "source": [
    "print(solve([1,-4,-1,4,5,-4,6,7,-2],1))\n",
    "reset()"
   ]
  },
  {
   "cell_type": "code",
   "execution_count": null,
   "metadata": {
    "collapsed": true
   },
   "outputs": [],
   "source": []
  }
 ],
 "metadata": {
  "kernelspec": {
   "display_name": "Python [py35]",
   "language": "python",
   "name": "Python [py35]"
  },
  "language_info": {
   "codemirror_mode": {
    "name": "ipython",
    "version": 3
   },
   "file_extension": ".py",
   "mimetype": "text/x-python",
   "name": "python",
   "nbconvert_exporter": "python",
   "pygments_lexer": "ipython3",
   "version": "3.5.2"
  }
 },
 "nbformat": 4,
 "nbformat_minor": 0
}
