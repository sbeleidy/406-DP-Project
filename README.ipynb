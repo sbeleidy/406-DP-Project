{
 "cells": [
  {
   "cell_type": "markdown",
   "metadata": {},
   "source": [
    "# Algorithms - Dynamic Programming Project\n",
    "\n",
    "Authors:\n",
    "\n",
    "1. Hanna Barringer\n",
    "1. Saad Elbeleidy\n",
    "1. Austin Leo\n",
    "\n",
    "## Problem\n",
    "\n",
    "The Astronomy club is faced with the following algorithmic problem. There are `n` consecutive astronomical events they could observe on a particular night that occur exactly one minute apart. Thus event `j` occurs at minute j. Also, event `j` occurs at integer coordinate `d_j` in the sky (we’re assuming the sky is one-dimensional). The telescope’s initial position at minute 0 is assumed to be coordinate 0 and the club is required to observe the last event `n` (occurring at minute `n`). The catch here is that the telescope can only be moved one coordinate per minute. So, at minute 1, the telescope can be moved to coordinate location 1 or −1 (or it could remain at location 0).\n",
    "\n",
    "The optimization problem you have to solve is: given the coordinates of each of the `n` events, find a viewable subset of maximum size, subject to the requirement that it should contain event `n`.\n",
    "\n",
    "Example: \n",
    "\n",
    "In the example below, the optimal solution is to observe events `{1,3,6,9}`. Note that the telescope has time to move from one event in this set to the next event moving at one coordinate location per minute:\n",
    "\n",
    "|Event     |1 |2 |3 |4 |5 |6 |7 |8 |9 |\n",
    "|----------|:-|:-|:-|:-|:-|:-|:-|:-|:-|\n",
    "|Coordinate|1 |-4|-1|4 |5 |-4|6 |7 |-2|\n",
    "\n",
    "## Solution Approach\n",
    "\n",
    "\n"
   ]
  },
  {
   "cell_type": "code",
   "execution_count": 31,
   "metadata": {
    "collapsed": false
   },
   "outputs": [],
   "source": [
    "allPossibleFromEnd = []\n",
    "allPossibleFromStart = []\n",
    "\n",
    "def reset():\n",
    "    global allPossibleFromEnd, allPossibleFromStart\n",
    "    allPossibleFromEnd = []\n",
    "    allPossibleFromStart = []\n",
    "    \n",
    "\n",
    "def getPossibilities(C,debug=0):\n",
    "#     Get the possible values that are reachable from start and end\n",
    "    n = len(C)\n",
    "    minsEnd = [C[-1]-(n-i-1) for i in range(n-1)] + [C[-1]]\n",
    "    maxsEnd = [C[-1]+(n-i-1) for i in range(n-1)] + [C[-1]]\n",
    "    minsStart = [-i for i in range(1,n+1)]\n",
    "    maxsStart = list(range(1,n+1))\n",
    "    \n",
    "    if debug:\n",
    "        print(minsEnd)\n",
    "        print(C)\n",
    "        print(maxsEnd)\n",
    "\n",
    "        print(minsStart)\n",
    "        print(C)\n",
    "        print(maxsStart)\n",
    "    \n",
    "    possibleEnd = [(C[i]>=minsEnd[i] and C[i]<=maxsEnd[i]) for i in range(n)]\n",
    "    \n",
    "    if debug:\n",
    "        print(possibleEnd)\n",
    "    \n",
    "    global allPossibleFromEnd\n",
    "    if allPossibleFromEnd == []:\n",
    "        allPossibleFromEnd = [0]* n\n",
    "        \n",
    "    global allPossibleFromStart\n",
    "    if allPossibleFromStart == []:\n",
    "        allPossibleFromStart = [(C[i]>=minsStart[i] and C[i]<=maxsStart[i]) for i in range(n)]\n",
    "        \n",
    "    allPossibleFromEnd[n-1] = possibleEnd\n",
    "    \n",
    "    for p in range(1,len(possibleEnd)):\n",
    "        if possibleEnd[p]:\n",
    "            getPossibilities(C[:p])\n",
    "    \n",
    "\n",
    "def solve(C, debug=0):\n",
    "    n = len(C)\n",
    "    getPossibilities(C, debug)\n",
    "    global allPossibleFromStart, allPossibleFromEnd\n",
    "    \n",
    "    if debug:\n",
    "        print(\"All possible form start\")\n",
    "        print(allPossibleFromStart)\n",
    "        print()\n",
    "        print(\"All possible from end\")\n",
    "        for l in allPossibleFromEnd:\n",
    "            print(l)\n",
    "        print()\n",
    "    \n",
    "#     Create the table of all posibilities of being reached from both start and end\n",
    "    possibleFromStartAndEnd = [[(allPossibleFromStart[i] and allPossibleFromEnd[j][i]) for i in range(j+1)] for j in range(n)]\n",
    "\n",
    "    if debug:\n",
    "        print(\"Possible from start and end\")\n",
    "        for l in possibleFromStartAndEnd:\n",
    "            print(l)\n",
    "        print()\n",
    "\n",
    "        scores = [sum(i) for i in possibleFromStartAndEnd]\n",
    "        print(scores)\n",
    "        print()\n",
    "        \n",
    "#     Find all possible solutions\n",
    "\n",
    "    bestCases = [0]*n\n",
    "    \n",
    "    for s, subgroup in enumerate(possibleFromStartAndEnd):\n",
    "        if bestCases[s] == 0:\n",
    "            bestCases[s] = [False]*(s) + [True]\n",
    "        for e, event in enumerate(subgroup):\n",
    "            if e < len(subgroup) -1 and event:\n",
    "                if bestCases[e] == 0:\n",
    "                    bestCases[e] = [False]*(e) + [True]\n",
    "                \n",
    "                potentialSolution = bestCases[e] + [False]*(s-e-1) + [True]\n",
    "                if sum(potentialSolution) > sum(bestCases[s]):\n",
    "                    bestCases[s] = potentialSolution\n",
    "                \n",
    "    for case in bestCases:\n",
    "        print(case)\n",
    "    \n",
    "    solution = [i+1 for i in range(n-1) if bestCases[-1][i]] + [n]\n",
    "    \n",
    "    if debug:\n",
    "        print(solution)\n",
    "        print()\n",
    "        \n",
    "    return solution"
   ]
  },
  {
   "cell_type": "markdown",
   "metadata": {},
   "source": [
    "### Some Examples"
   ]
  },
  {
   "cell_type": "code",
   "execution_count": 124,
   "metadata": {
    "collapsed": false
   },
   "outputs": [
    {
     "name": "stdout",
     "output_type": "stream",
     "text": [
      "[1, 3, 6, 9]\n"
     ]
    }
   ],
   "source": [
    "print(solve([1,-4,-1,4,5,-4,6,7,-2]))\n",
    "reset()"
   ]
  },
  {
   "cell_type": "code",
   "execution_count": 95,
   "metadata": {
    "collapsed": false
   },
   "outputs": [
    {
     "name": "stdout",
     "output_type": "stream",
     "text": [
      "[1, 2, 3, 4, 5, 6, 7, 8, 9]\n"
     ]
    }
   ],
   "source": [
    "print(solve([1,2,3,4,5,6,7,8,9]))\n",
    "reset()"
   ]
  },
  {
   "cell_type": "code",
   "execution_count": 96,
   "metadata": {
    "collapsed": false
   },
   "outputs": [
    {
     "name": "stdout",
     "output_type": "stream",
     "text": [
      "[1, 2, 4, 6, 8, 9]\n"
     ]
    }
   ],
   "source": [
    "print(solve([1,2,-3,4,-5,6,-7,8,9]))\n",
    "reset()"
   ]
  },
  {
   "cell_type": "code",
   "execution_count": 98,
   "metadata": {
    "collapsed": false
   },
   "outputs": [
    {
     "name": "stdout",
     "output_type": "stream",
     "text": [
      "[2, 3, 4, 5, 6, 7, 8, 9]\n"
     ]
    }
   ],
   "source": [
    "print(solve([0,2,3,4,5,6,7,8,9]))\n",
    "reset()"
   ]
  },
  {
   "cell_type": "code",
   "execution_count": 117,
   "metadata": {
    "collapsed": false
   },
   "outputs": [
    {
     "name": "stdout",
     "output_type": "stream",
     "text": [
      "[1, 2, 3, 4, 5, 9]\n"
     ]
    }
   ],
   "source": [
    "print(solve([1,1,2,3,4,5,6,7,1]))\n",
    "reset()"
   ]
  },
  {
   "cell_type": "code",
   "execution_count": 32,
   "metadata": {
    "collapsed": false
   },
   "outputs": [
    {
     "name": "stdout",
     "output_type": "stream",
     "text": [
      "[-10, -9, -8, -7, -6, -5, -4, -3, -2, -1, 0]\n",
      "[1, -1, 2, -2, 3, -3, 2, -2, 1, -1, 0]\n",
      "[10, 9, 8, 7, 6, 5, 4, 3, 2, 1, 0]\n",
      "[-1, -2, -3, -4, -5, -6, -7, -8, -9, -10, -11]\n",
      "[1, -1, 2, -2, 3, -3, 2, -2, 1, -1, 0]\n",
      "[1, 2, 3, 4, 5, 6, 7, 8, 9, 10, 11]\n",
      "[True, True, True, True, True, True, True, True, True, True, True]\n",
      "All possible form start\n",
      "[True, True, True, True, True, True, True, True, True, True, True]\n",
      "\n",
      "All possible from end\n",
      "[True]\n",
      "[False, True]\n",
      "[True, False, True]\n",
      "[True, True, False, True]\n",
      "[True, False, True, False, True]\n",
      "[True, True, False, True, False, True]\n",
      "[True, True, True, False, True, False, True]\n",
      "[True, True, True, True, False, True, False, True]\n",
      "[True, True, True, True, True, False, True, False, True]\n",
      "[True, True, True, True, True, True, True, True, False, True]\n",
      "[True, True, True, True, True, True, True, True, True, True, True]\n",
      "\n",
      "Possible from start and end\n",
      "[True]\n",
      "[False, True]\n",
      "[True, False, True]\n",
      "[True, True, False, True]\n",
      "[True, False, True, False, True]\n",
      "[True, True, False, True, False, True]\n",
      "[True, True, True, False, True, False, True]\n",
      "[True, True, True, True, False, True, False, True]\n",
      "[True, True, True, True, True, False, True, False, True]\n",
      "[True, True, True, True, True, True, True, True, False, True]\n",
      "[True, True, True, True, True, True, True, True, True, True, True]\n",
      "\n",
      "[1, 1, 2, 3, 3, 4, 5, 6, 7, 9, 11]\n",
      "\n",
      "[True]\n",
      "[False, True]\n",
      "[True, False, True]\n",
      "[True, False, False, True]\n",
      "[True, False, True, False, True]\n",
      "[True, False, False, True, False, True]\n",
      "[True, False, True, False, True, False, True]\n",
      "[True, False, False, True, False, True, False, True]\n",
      "[True, False, True, False, True, False, True, False, True]\n",
      "[True, False, True, False, True, False, True, False, False, True]\n",
      "[True, False, True, False, True, False, True, False, True, False, True]\n",
      "[1, 3, 5, 7, 9, 11]\n",
      "\n",
      "[1, 3, 5, 7, 9, 11]\n"
     ]
    }
   ],
   "source": [
    "print(solve([1,-1,2,-2,3,-3,2,-2,1,-1,0],1))\n",
    "reset()"
   ]
  },
  {
   "cell_type": "code",
   "execution_count": 9,
   "metadata": {
    "collapsed": false
   },
   "outputs": [
    {
     "name": "stdout",
     "output_type": "stream",
     "text": [
      "[-10, -9, -8, -7, -6, -5, -4, -3, -2]\n",
      "[1, -4, -1, 4, 5, -4, 6, 7, -2]\n",
      "[6, 5, 4, 3, 2, 1, 0, -1, -2]\n",
      "[-1, -2, -3, -4, -5, -6, -7, -8, -9]\n",
      "[1, -4, -1, 4, 5, -4, 6, 7, -2]\n",
      "[1, 2, 3, 4, 5, 6, 7, 8, 9]\n",
      "[True, True, True, False, False, True, False, False, True]\n",
      "All possible form start\n",
      "[True, False, True, True, True, True, True, True, True]\n",
      "\n",
      "All possible from end\n",
      "[True]\n",
      "[False, True]\n",
      "[True, False, True]\n",
      "[True, False, False, True]\n",
      "[True, False, False, True, True]\n",
      "[True, True, True, False, False, True]\n",
      "[True, False, False, True, True, False, True]\n",
      "[True, False, False, True, True, False, True, True]\n",
      "[True, True, True, False, False, True, False, False, True]\n",
      "\n",
      "Possible from start and end\n",
      "[True]\n",
      "[False, False]\n",
      "[True, False, True]\n",
      "[True, False, False, True]\n",
      "[True, False, False, True, True]\n",
      "[True, False, True, False, False, True]\n",
      "[True, False, False, True, True, False, True]\n",
      "[True, False, False, True, True, False, True, True]\n",
      "[True, False, True, False, False, True, False, False, True]\n",
      "\n",
      "[1, 0, 2, 2, 3, 3, 4, 5, 4]\n",
      "\n",
      "[1, 3, 6, 9]\n",
      "\n"
     ]
    }
   ],
   "source": [
    "solve([1,-4,-1,4,5,-4,6,7,-2],1)\n",
    "reset()"
   ]
  },
  {
   "cell_type": "code",
   "execution_count": null,
   "metadata": {
    "collapsed": true
   },
   "outputs": [],
   "source": []
  }
 ],
 "metadata": {
  "kernelspec": {
   "display_name": "Python [py35]",
   "language": "python",
   "name": "Python [py35]"
  },
  "language_info": {
   "codemirror_mode": {
    "name": "ipython",
    "version": 3
   },
   "file_extension": ".py",
   "mimetype": "text/x-python",
   "name": "python",
   "nbconvert_exporter": "python",
   "pygments_lexer": "ipython3",
   "version": "3.5.2"
  }
 },
 "nbformat": 4,
 "nbformat_minor": 0
}
