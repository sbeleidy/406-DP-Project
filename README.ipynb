{
 "cells": [
  {
   "cell_type": "markdown",
   "metadata": {},
   "source": [
    "# Algorithms - Dynamic Programming Project\n",
    "\n",
    "Authors:\n",
    "\n",
    "1. Hanna Barringer\n",
    "1. Saad Elbeleidy\n",
    "1. Austin Leo\n",
    "\n",
    "## Problem\n",
    "\n",
    "The Astronomy club is faced with the following algorithmic problem. There are `n` consecutive astronomical events they could observe on a particular night that occur exactly one minute apart. Thus event `j` occurs at minute j. Also, event `j` occurs at integer coordinate `d_j` in the sky (we’re assuming the sky is one-dimensional). The telescope’s initial position at minute 0 is assumed to be coordinate 0 and the club is required to observe the last event `n` (occurring at minute `n`). The catch here is that the telescope can only be moved one coordinate per minute. So, at minute 1, the telescope can be moved to coordinate location 1 or −1 (or it could remain at location 0).\n",
    "\n",
    "The optimization problem you have to solve is: given the coordinates of each of the `n` events, find a viewable subset of maximum size, subject to the requirement that it should contain event `n`.\n",
    "\n",
    "Example: \n",
    "\n",
    "In the example below, the optimal solution is to observe events `{1,3,6,9}`. Note that the telescope has time to move from one event in this set to the next event moving at one coordinate location per minute:\n",
    "\n",
    "|Event     |1 |2 |3 |4 |5 |6 |7 |8 |9 |\n",
    "|----------|:-|:-|:-|:-|:-|:-|:-|:-|:-|\n",
    "|Coordinate|1 |-4|-1|4 |5 |-4|6 |7 |-2|\n",
    "\n",
    "## Solution Approach\n",
    "\n",
    "\n"
   ]
  },
  {
   "cell_type": "code",
   "execution_count": 8,
   "metadata": {
    "collapsed": false
   },
   "outputs": [],
   "source": [
    "allPossibleFromEnd = []\n",
    "allPossibleFromStart = []\n",
    "\n",
    "def reset():\n",
    "    global allPossibleFromEnd, allPossibleFromStart\n",
    "    allPossibleFromEnd = []\n",
    "    allPossibleFromStart = []\n",
    "    \n",
    "\n",
    "def getPossibilities(C,debug=0):\n",
    "#     Get the possible values that are reachable from start and end\n",
    "    n = len(C)\n",
    "    minsEnd = [C[-1]-(n-i-1) for i in range(n-1)] + [C[-1]]\n",
    "    maxsEnd = [C[-1]+(n-i-1) for i in range(n-1)] + [C[-1]]\n",
    "    minsStart = [-i for i in range(1,n+1)]\n",
    "    maxsStart = list(range(1,n+1))\n",
    "    \n",
    "    if debug:\n",
    "        print(minsEnd)\n",
    "        print(C)\n",
    "        print(maxsEnd)\n",
    "\n",
    "        print(minsStart)\n",
    "        print(C)\n",
    "        print(maxsStart)\n",
    "    \n",
    "    possibleEnd = [(C[i]>=minsEnd[i] and C[i]<=maxsEnd[i]) for i in range(n)]\n",
    "    \n",
    "    if debug:\n",
    "        print(possibleEnd)\n",
    "    \n",
    "    global allPossibleFromEnd\n",
    "    if allPossibleFromEnd == []:\n",
    "        allPossibleFromEnd = [0]* n\n",
    "        \n",
    "    global allPossibleFromStart\n",
    "    if allPossibleFromStart == []:\n",
    "        allPossibleFromStart = [(C[i]>=minsStart[i] and C[i]<=maxsStart[i]) for i in range(n)]\n",
    "        \n",
    "    allPossibleFromEnd[n-1] = possibleEnd\n",
    "    \n",
    "    for p in range(1,len(possibleEnd)):\n",
    "        if possibleEnd[p]:\n",
    "            getPossibilities(C[:p])\n",
    "    \n",
    "\n",
    "def solve(C, debug=0):\n",
    "    n = len(C)\n",
    "    getPossibilities(C, debug)\n",
    "    global allPossibleFromStart, allPossibleFromEnd\n",
    "    \n",
    "    if debug:\n",
    "        print(\"All possible form start\")\n",
    "        print(allPossibleFromStart)\n",
    "        print()\n",
    "        print(\"All possible from end\")\n",
    "        for l in allPossibleFromEnd:\n",
    "            print(l)\n",
    "        print()\n",
    "    \n",
    "#     Create the table of all posibilities of being reached from both start and end\n",
    "    possibleFromStartAndEnd = [[(allPossibleFromStart[i] and allPossibleFromEnd[j][i]) for i in range(j+1)] for j in range(n)]\n",
    "\n",
    "    if debug:\n",
    "        print(\"Possible from start and end\")\n",
    "        for l in possibleFromStartAndEnd:\n",
    "            print(l)\n",
    "        print()\n",
    "\n",
    "        scores = [sum(i) for i in possibleFromStartAndEnd]\n",
    "        print(scores)\n",
    "        print()\n",
    "        \n",
    "#     Find all possible solutions\n",
    "\n",
    "    bestCases = [0]*n\n",
    "    \n",
    "    for s, subgroup in enumerate(possibleFromStartAndEnd):\n",
    "        if bestCases[s] == 0:\n",
    "            bestCases[s] = [False]*(s) + [True]\n",
    "        for e, event in enumerate(subgroup):\n",
    "            if e < len(subgroup)-1 and event:\n",
    "                if bestCases[e] == 0:\n",
    "                    bestCases[e] = [False]*(e) + [True]\n",
    "                \n",
    "                potentialSolution = bestCases[e] + [False]*(s-e-1) + [True]\n",
    "                if sum(potentialSolution) > sum(bestCases[s]):\n",
    "                    bestCases[s] = potentialSolution\n",
    "\n",
    "    \n",
    "    solution = [i+1 for i in range(n-1) if bestCases[-1][i]] + [n]\n",
    "    \n",
    "    if debug:\n",
    "        print(solution)\n",
    "        print()\n",
    "        \n",
    "    return solution"
   ]
  },
  {
   "cell_type": "markdown",
   "metadata": {},
   "source": [
    "### Some Examples"
   ]
  },
  {
   "cell_type": "code",
   "execution_count": 9,
   "metadata": {
    "collapsed": false
   },
   "outputs": [
    {
     "name": "stdout",
     "output_type": "stream",
     "text": [
      "[1, 3, 6, 9]\n"
     ]
    }
   ],
   "source": [
    "print(solve([1,-4,-1,4,5,-4,6,7,-2]))\n",
    "reset()"
   ]
  },
  {
   "cell_type": "code",
   "execution_count": 10,
   "metadata": {
    "collapsed": false
   },
   "outputs": [
    {
     "name": "stdout",
     "output_type": "stream",
     "text": [
      "[1, 2, 3, 4, 5, 6, 7, 8, 9]\n"
     ]
    }
   ],
   "source": [
    "print(solve([1,2,3,4,5,6,7,8,9]))\n",
    "reset()"
   ]
  },
  {
   "cell_type": "code",
   "execution_count": 11,
   "metadata": {
    "collapsed": false
   },
   "outputs": [
    {
     "name": "stdout",
     "output_type": "stream",
     "text": [
      "[1, 2, 4, 6, 8, 9]\n"
     ]
    }
   ],
   "source": [
    "print(solve([1,2,-3,4,-5,6,-7,8,9]))\n",
    "reset()"
   ]
  },
  {
   "cell_type": "code",
   "execution_count": 12,
   "metadata": {
    "collapsed": false
   },
   "outputs": [
    {
     "name": "stdout",
     "output_type": "stream",
     "text": [
      "[2, 3, 4, 5, 6, 7, 8, 9]\n"
     ]
    }
   ],
   "source": [
    "print(solve([0,2,3,4,5,6,7,8,9]))\n",
    "reset()"
   ]
  },
  {
   "cell_type": "code",
   "execution_count": 13,
   "metadata": {
    "collapsed": false
   },
   "outputs": [
    {
     "name": "stdout",
     "output_type": "stream",
     "text": [
      "[1, 2, 3, 4, 5, 9]\n"
     ]
    }
   ],
   "source": [
    "print(solve([1,1,2,3,4,5,6,7,1]))\n",
    "reset()"
   ]
  },
  {
   "cell_type": "code",
   "execution_count": 14,
   "metadata": {
    "collapsed": false
   },
   "outputs": [
    {
     "name": "stdout",
     "output_type": "stream",
     "text": [
      "[-10, -9, -8, -7, -6, -5, -4, -3, -2, -1, 0]\n",
      "[1, -1, 2, -2, 3, -3, 2, -2, 1, -1, 0]\n",
      "[10, 9, 8, 7, 6, 5, 4, 3, 2, 1, 0]\n",
      "[-1, -2, -3, -4, -5, -6, -7, -8, -9, -10, -11]\n",
      "[1, -1, 2, -2, 3, -3, 2, -2, 1, -1, 0]\n",
      "[1, 2, 3, 4, 5, 6, 7, 8, 9, 10, 11]\n",
      "[True, True, True, True, True, True, True, True, True, True, True]\n",
      "All possible form start\n",
      "[True, True, True, True, True, True, True, True, True, True, True]\n",
      "()\n",
      "All possible from end\n",
      "[True]\n",
      "[False, True]\n",
      "[True, False, True]\n",
      "[True, True, False, True]\n",
      "[True, False, True, False, True]\n",
      "[True, True, False, True, False, True]\n",
      "[True, True, True, False, True, False, True]\n",
      "[True, True, True, True, False, True, False, True]\n",
      "[True, True, True, True, True, False, True, False, True]\n",
      "[True, True, True, True, True, True, True, True, False, True]\n",
      "[True, True, True, True, True, True, True, True, True, True, True]\n",
      "()\n",
      "Possible from start and end\n",
      "[True]\n",
      "[False, True]\n",
      "[True, False, True]\n",
      "[True, True, False, True]\n",
      "[True, False, True, False, True]\n",
      "[True, True, False, True, False, True]\n",
      "[True, True, True, False, True, False, True]\n",
      "[True, True, True, True, False, True, False, True]\n",
      "[True, True, True, True, True, False, True, False, True]\n",
      "[True, True, True, True, True, True, True, True, False, True]\n",
      "[True, True, True, True, True, True, True, True, True, True, True]\n",
      "()\n",
      "[1, 1, 2, 3, 3, 4, 5, 6, 7, 9, 11]\n",
      "()\n",
      "[1, 3, 5, 7, 9, 11]\n",
      "()\n",
      "[1, 3, 5, 7, 9, 11]\n"
     ]
    }
   ],
   "source": [
    "print(solve([1,-1,2,-2,3,-3,2,-2,1,-1,0],1))\n",
    "reset()"
   ]
  },
  {
   "cell_type": "code",
   "execution_count": 15,
   "metadata": {
    "collapsed": false,
    "scrolled": false
   },
   "outputs": [
    {
     "name": "stdout",
     "output_type": "stream",
     "text": [
      "[-10, -9, -8, -7, -6, -5, -4, -3, -2]\n",
      "[1, -4, -1, 4, 5, -4, 6, 7, -2]\n",
      "[6, 5, 4, 3, 2, 1, 0, -1, -2]\n",
      "[-1, -2, -3, -4, -5, -6, -7, -8, -9]\n",
      "[1, -4, -1, 4, 5, -4, 6, 7, -2]\n",
      "[1, 2, 3, 4, 5, 6, 7, 8, 9]\n",
      "[True, True, True, False, False, True, False, False, True]\n",
      "All possible form start\n",
      "[True, False, True, True, True, True, True, True, True]\n",
      "()\n",
      "All possible from end\n",
      "[True]\n",
      "[False, True]\n",
      "[True, False, True]\n",
      "[True, False, False, True]\n",
      "[True, False, False, True, True]\n",
      "[True, True, True, False, False, True]\n",
      "[True, False, False, True, True, False, True]\n",
      "[True, False, False, True, True, False, True, True]\n",
      "[True, True, True, False, False, True, False, False, True]\n",
      "()\n",
      "Possible from start and end\n",
      "[True]\n",
      "[False, False]\n",
      "[True, False, True]\n",
      "[True, False, False, True]\n",
      "[True, False, False, True, True]\n",
      "[True, False, True, False, False, True]\n",
      "[True, False, False, True, True, False, True]\n",
      "[True, False, False, True, True, False, True, True]\n",
      "[True, False, True, False, False, True, False, False, True]\n",
      "()\n",
      "[1, 0, 2, 2, 3, 3, 4, 5, 4]\n",
      "()\n",
      "[1, 3, 6, 9]\n",
      "()\n"
     ]
    }
   ],
   "source": [
    "solve([1,-4,-1,4,5,-4,6,7,-2],1)\n",
    "reset()"
   ]
  },
  {
   "cell_type": "markdown",
   "metadata": {},
   "source": [
    "\n",
    "\n",
    "\n"
   ]
  },
  {
   "cell_type": "markdown",
   "metadata": {},
   "source": [
    "# Main Overview\n",
    "\n",
    "The algorithm begins by first by creating two lists, *allPossibleFromStart* and *allPossibleFromEnd*, which will be used to store the possible solutions generated. Generating the lists begins by taking a subset of the list of events *C* starting with the first element and adding the next element each iteration. \n",
    "\n",
    "Given a sample set *C* of [0, 1, 2, 3]:\n",
    "    \n",
    "    Subset 1: [0]\n",
    "    Subset 2: [0, 1]\n",
    "    Subset 3: [0, 1, 2]\n",
    "    Subset 4: [0, 1, 2, 3]\n",
    "\n",
    "*allPossibleFromStart* will begin at the first element of the subset and begin at the initial coordinate position of the telescope, 0. The telescope may only move at maximum 1 coordinate per minute and the iteration of each subset will check that the proceding elements can be reached by the telescope in time. If the telescope can possibly see the event it is appeneded to the current list as ```True```. Once the subset has been processed the current list is appeneded to *allPossibleFromStart*. \n",
    "\n",
    "For example, the telescope begins at position 0 and may only reach either coordinate -1 or 1 by the next minute. By minute 2, the telescope can see events from coordinate -2 to 2 and if the event at this time is within these bounds it will be ```True```. However, if there is an event *j* at coordinate 5 by minute 3 the telescope cannot possibly reach *j* from its starting position and therefore will have a ```False``` added.\n",
    "\n",
    "*allPossibleFromEnd* will repeat this process, but rather than starting from the first element and the telescope's initial position of 0, it will begin at the position and coordinate of the last event in the subset. This will guarantee that the last event in the subset is observed.\n",
    "\n",
    "Once both lists have been generated they are *AND*ed together and assigned to a new list *allPossibleFromStartAndEnd*. This list will contain all solutions of events that can be reached by the telescope in time and additionally observe the last event.\n",
    "\n",
    "From *allPossibleFromStartAndEnd*, a list of the *bestCases* of each solution will be generated. This is where the recursive relation occurs. Using *allPossibleFromStartAndEnd* we take each list *s* and create a new list that is the length *l* of *s* of *l - 1* ```False```s and a single ```True``` at the end. This signifies that the last astronomical event has been seen. We then iterate through *s* starting from the end moving towards the front. As we move towards the front we will add the elements to our best case list for that subset. If a ```True``` is seen at position *i* we will follow a new procedure. \n",
    "\n",
    "Keep in mind that the *bestCases* lists all the best cases for the subset of that length. We will compare our current subset to the corresponding *bestCases* subset of length *i* and if the element in *s* is ```True``` at *i* the remaining elements in *s* will be replaced by the *bestCases* subset. By storing the best case of each subset we can avoid recalculating the remaining elements of *s* if we reach a ```True``` by substituting in the best case subset of that length. This subset is added as the next list in our *bestCases* until we have fully processed *allPossibleFromStartAndEnd*. The final best case is the solution.\n"
   ]
  },
  {
   "cell_type": "markdown",
   "metadata": {},
   "source": [
    "#Psudocode\n",
    "\n",
    "Assume *C* is the list of coordinates for the astronomical events with the indices *j* being the minute they each occur at.\n",
    "\n",
    "```\n",
    "global allPossibleFromStart\n",
    "global allPossibleFromEnd\n",
    "\n",
    "def getAllPossibilites(C):\n",
    "    n = length(C)\n",
    "    possibleStart = []\n",
    "    for i = 1 to n:\n",
    "        check to see if event C[i] is within abs(i) of the starting position\n",
    "        if it is:\n",
    "            possibleStart.append(True)\n",
    "        else:\n",
    "            possibleStart.append(False)\n",
    "            \n",
    "    allPossibleFromStart = possibleStart\n",
    "    \n",
    "    for i = 1 to n:\n",
    "        check to see if event C[i] is within abs(n-i) of the end event position\n",
    "        if it is:\n",
    "            possibleEnd.append(True)\n",
    "        else:\n",
    "            possibleEnd.append(False)\n",
    "            \n",
    "        allPossibleFromEnd.append(possibleEnd)\n",
    "        \n",
    "        for p = 1 to len(possibleEnd)\n",
    "            if possibleEnd[p] == true\n",
    "                getAllPossibilites(possibleEnd(C[:p]))    #Recursively call with fewer elements of C\n",
    "                \n",
    "                \n",
    "getAllPossibilities(C)\n",
    "\n",
    "compare allPossibleFromStart and allPossibleFromEnd\n",
    "allPossibleFromStartAndEnd = elements in common of the two\n",
    "bestCases = list of n elements for each subset\n",
    "\n",
    "for index s, subset subgroup in allPossibleFromStartAndEnd:\n",
    "    if bestCases has not been initialized:\n",
    "        bestCases[s] = list of s Falses + True           # No events have been seen except the last\n",
    "        \n",
    "        for index e, subset event in subgroup:\n",
    "            if we have not reached the end and an event has been witnessed:\n",
    "                substitute elements from the previous bestCases subset of length e into current subset\n",
    "                \n",
    "                if there are more events witnessed in current subset:\n",
    "                    bestCases[s] = current subset\n",
    "        \n",
    "return the last element in bestCases\n",
    "\n"
   ]
  }
 ],
 "metadata": {
  "anaconda-cloud": {},
  "kernelspec": {
   "display_name": "Python [conda root]",
   "language": "python",
   "name": "conda-root-py"
  },
  "language_info": {
   "codemirror_mode": {
    "name": "ipython",
    "version": 2
   },
   "file_extension": ".py",
   "mimetype": "text/x-python",
   "name": "python",
   "nbconvert_exporter": "python",
   "pygments_lexer": "ipython2",
   "version": "2.7.12"
  }
 },
 "nbformat": 4,
 "nbformat_minor": 0
}
